{
 "cells": [
  {
   "cell_type": "code",
   "execution_count": 3,
   "metadata": {},
   "outputs": [],
   "source": [
    "import numpy as np\n",
    "import pandas as pd\n",
    "from sklearn.model_selection import train_test_split\n",
    "import sklearn.linear_model\n"
   ]
  },
  {
   "cell_type": "code",
   "execution_count": 4,
   "metadata": {},
   "outputs": [
    {
     "data": {
      "text/html": [
       "<div>\n",
       "<style scoped>\n",
       "    .dataframe tbody tr th:only-of-type {\n",
       "        vertical-align: middle;\n",
       "    }\n",
       "\n",
       "    .dataframe tbody tr th {\n",
       "        vertical-align: top;\n",
       "    }\n",
       "\n",
       "    .dataframe thead th {\n",
       "        text-align: right;\n",
       "    }\n",
       "</style>\n",
       "<table border=\"1\" class=\"dataframe\">\n",
       "  <thead>\n",
       "    <tr style=\"text-align: right;\">\n",
       "      <th></th>\n",
       "      <th>id</th>\n",
       "      <th>date</th>\n",
       "      <th>price</th>\n",
       "      <th>bedrooms</th>\n",
       "      <th>bathrooms</th>\n",
       "      <th>sqft_living</th>\n",
       "      <th>sqft_lot</th>\n",
       "      <th>floors</th>\n",
       "      <th>waterfront</th>\n",
       "      <th>view</th>\n",
       "      <th>...</th>\n",
       "      <th>grade</th>\n",
       "      <th>sqft_above</th>\n",
       "      <th>sqft_basement</th>\n",
       "      <th>yr_built</th>\n",
       "      <th>yr_renovated</th>\n",
       "      <th>zipcode</th>\n",
       "      <th>lat</th>\n",
       "      <th>long</th>\n",
       "      <th>sqft_living15</th>\n",
       "      <th>sqft_lot15</th>\n",
       "    </tr>\n",
       "  </thead>\n",
       "  <tbody>\n",
       "    <tr>\n",
       "      <th>0</th>\n",
       "      <td>7129300520</td>\n",
       "      <td>20141013T000000</td>\n",
       "      <td>221900.0</td>\n",
       "      <td>3</td>\n",
       "      <td>1.00</td>\n",
       "      <td>1180</td>\n",
       "      <td>5650</td>\n",
       "      <td>1.0</td>\n",
       "      <td>0</td>\n",
       "      <td>0</td>\n",
       "      <td>...</td>\n",
       "      <td>7</td>\n",
       "      <td>1180</td>\n",
       "      <td>0</td>\n",
       "      <td>1955</td>\n",
       "      <td>0</td>\n",
       "      <td>98178</td>\n",
       "      <td>47.5112</td>\n",
       "      <td>-122.257</td>\n",
       "      <td>1340</td>\n",
       "      <td>5650</td>\n",
       "    </tr>\n",
       "    <tr>\n",
       "      <th>1</th>\n",
       "      <td>6414100192</td>\n",
       "      <td>20141209T000000</td>\n",
       "      <td>538000.0</td>\n",
       "      <td>3</td>\n",
       "      <td>2.25</td>\n",
       "      <td>2570</td>\n",
       "      <td>7242</td>\n",
       "      <td>2.0</td>\n",
       "      <td>0</td>\n",
       "      <td>0</td>\n",
       "      <td>...</td>\n",
       "      <td>7</td>\n",
       "      <td>2170</td>\n",
       "      <td>400</td>\n",
       "      <td>1951</td>\n",
       "      <td>1991</td>\n",
       "      <td>98125</td>\n",
       "      <td>47.7210</td>\n",
       "      <td>-122.319</td>\n",
       "      <td>1690</td>\n",
       "      <td>7639</td>\n",
       "    </tr>\n",
       "    <tr>\n",
       "      <th>2</th>\n",
       "      <td>5631500400</td>\n",
       "      <td>20150225T000000</td>\n",
       "      <td>180000.0</td>\n",
       "      <td>2</td>\n",
       "      <td>1.00</td>\n",
       "      <td>770</td>\n",
       "      <td>10000</td>\n",
       "      <td>1.0</td>\n",
       "      <td>0</td>\n",
       "      <td>0</td>\n",
       "      <td>...</td>\n",
       "      <td>6</td>\n",
       "      <td>770</td>\n",
       "      <td>0</td>\n",
       "      <td>1933</td>\n",
       "      <td>0</td>\n",
       "      <td>98028</td>\n",
       "      <td>47.7379</td>\n",
       "      <td>-122.233</td>\n",
       "      <td>2720</td>\n",
       "      <td>8062</td>\n",
       "    </tr>\n",
       "    <tr>\n",
       "      <th>3</th>\n",
       "      <td>2487200875</td>\n",
       "      <td>20141209T000000</td>\n",
       "      <td>604000.0</td>\n",
       "      <td>4</td>\n",
       "      <td>3.00</td>\n",
       "      <td>1960</td>\n",
       "      <td>5000</td>\n",
       "      <td>1.0</td>\n",
       "      <td>0</td>\n",
       "      <td>0</td>\n",
       "      <td>...</td>\n",
       "      <td>7</td>\n",
       "      <td>1050</td>\n",
       "      <td>910</td>\n",
       "      <td>1965</td>\n",
       "      <td>0</td>\n",
       "      <td>98136</td>\n",
       "      <td>47.5208</td>\n",
       "      <td>-122.393</td>\n",
       "      <td>1360</td>\n",
       "      <td>5000</td>\n",
       "    </tr>\n",
       "    <tr>\n",
       "      <th>4</th>\n",
       "      <td>1954400510</td>\n",
       "      <td>20150218T000000</td>\n",
       "      <td>510000.0</td>\n",
       "      <td>3</td>\n",
       "      <td>2.00</td>\n",
       "      <td>1680</td>\n",
       "      <td>8080</td>\n",
       "      <td>1.0</td>\n",
       "      <td>0</td>\n",
       "      <td>0</td>\n",
       "      <td>...</td>\n",
       "      <td>8</td>\n",
       "      <td>1680</td>\n",
       "      <td>0</td>\n",
       "      <td>1987</td>\n",
       "      <td>0</td>\n",
       "      <td>98074</td>\n",
       "      <td>47.6168</td>\n",
       "      <td>-122.045</td>\n",
       "      <td>1800</td>\n",
       "      <td>7503</td>\n",
       "    </tr>\n",
       "  </tbody>\n",
       "</table>\n",
       "<p>5 rows × 21 columns</p>\n",
       "</div>"
      ],
      "text/plain": [
       "           id             date     price  bedrooms  bathrooms  sqft_living  \\\n",
       "0  7129300520  20141013T000000  221900.0         3       1.00         1180   \n",
       "1  6414100192  20141209T000000  538000.0         3       2.25         2570   \n",
       "2  5631500400  20150225T000000  180000.0         2       1.00          770   \n",
       "3  2487200875  20141209T000000  604000.0         4       3.00         1960   \n",
       "4  1954400510  20150218T000000  510000.0         3       2.00         1680   \n",
       "\n",
       "   sqft_lot  floors  waterfront  view     ...      grade  sqft_above  \\\n",
       "0      5650     1.0           0     0     ...          7        1180   \n",
       "1      7242     2.0           0     0     ...          7        2170   \n",
       "2     10000     1.0           0     0     ...          6         770   \n",
       "3      5000     1.0           0     0     ...          7        1050   \n",
       "4      8080     1.0           0     0     ...          8        1680   \n",
       "\n",
       "   sqft_basement  yr_built  yr_renovated  zipcode      lat     long  \\\n",
       "0              0      1955             0    98178  47.5112 -122.257   \n",
       "1            400      1951          1991    98125  47.7210 -122.319   \n",
       "2              0      1933             0    98028  47.7379 -122.233   \n",
       "3            910      1965             0    98136  47.5208 -122.393   \n",
       "4              0      1987             0    98074  47.6168 -122.045   \n",
       "\n",
       "   sqft_living15  sqft_lot15  \n",
       "0           1340        5650  \n",
       "1           1690        7639  \n",
       "2           2720        8062  \n",
       "3           1360        5000  \n",
       "4           1800        7503  \n",
       "\n",
       "[5 rows x 21 columns]"
      ]
     },
     "execution_count": 4,
     "metadata": {},
     "output_type": "execute_result"
    }
   ],
   "source": [
    "data_train = pd.read_csv('kc_house_train_data.csv')\n",
    "data_test = pd.read_csv('kc_house_test_data.csv')\n",
    "data_train.head()"
   ]
  },
  {
   "cell_type": "code",
   "execution_count": 5,
   "metadata": {},
   "outputs": [],
   "source": [
    "x_train = data_train['sqft_living'].values.reshape(-1,1)\n",
    "y_train = data_train['price'].values.reshape(-1,1)\n",
    "x_test = data_test['sqft_living'].values.reshape(-1,1)\n",
    "y_test = data_test['price'].values.reshape(-1,1)"
   ]
  },
  {
   "cell_type": "code",
   "execution_count": 4,
   "metadata": {},
   "outputs": [
    {
     "data": {
      "text/plain": [
       "LinearRegression(copy_X=True, fit_intercept=True, n_jobs=1, normalize=False)"
      ]
     },
     "execution_count": 4,
     "metadata": {},
     "output_type": "execute_result"
    }
   ],
   "source": [
    "clf = sklearn.linear_model.LinearRegression()\n",
    "clf.fit(x_train, y_train)"
   ]
  },
  {
   "cell_type": "code",
   "execution_count": 5,
   "metadata": {},
   "outputs": [
    {
     "name": "stdout",
     "output_type": "stream",
     "text": [
      "[-47116.07907289]\n",
      "[[281.95883963]]\n"
     ]
    }
   ],
   "source": [
    "print(clf.intercept_)\n",
    "print(clf.coef_)"
   ]
  },
  {
   "cell_type": "code",
   "execution_count": 6,
   "metadata": {},
   "outputs": [
    {
     "data": {
      "text/plain": [
       "array([[356085.0615985 ],\n",
       "       [784662.49783662],\n",
       "       [435033.53669499],\n",
       "       ...,\n",
       "       [663420.19679557],\n",
       "       [604208.8404732 ],\n",
       "       [240481.93735006]])"
      ]
     },
     "execution_count": 6,
     "metadata": {},
     "output_type": "execute_result"
    }
   ],
   "source": [
    "clf.predict(x_test)"
   ]
  },
  {
   "cell_type": "code",
   "execution_count": 7,
   "metadata": {},
   "outputs": [
    {
     "data": {
      "text/plain": [
       "65122471888.81819"
      ]
     },
     "execution_count": 7,
     "metadata": {},
     "output_type": "execute_result"
    }
   ],
   "source": [
    "sklearn.metrics.mean_squared_error(y_test, clf.predict(x_test))"
   ]
  },
  {
   "cell_type": "code",
   "execution_count": null,
   "metadata": {},
   "outputs": [],
   "source": []
  },
  {
   "cell_type": "code",
   "execution_count": null,
   "metadata": {},
   "outputs": [],
   "source": []
  },
  {
   "cell_type": "code",
   "execution_count": 8,
   "metadata": {},
   "outputs": [],
   "source": [
    "x2_train = data_train[['sqft_living','sqft_living15']].values.reshape(-1,2)\n",
    "# y_train = data_train['price'].values.reshape(-1,1)\n",
    "x2_test = data_test[['sqft_living','sqft_living15']].values.reshape(-1,2)\n",
    "# y_test = data_test['price'].values.reshape(-1,1)"
   ]
  },
  {
   "cell_type": "code",
   "execution_count": 9,
   "metadata": {},
   "outputs": [
    {
     "data": {
      "text/plain": [
       "(17384, 2)"
      ]
     },
     "execution_count": 9,
     "metadata": {},
     "output_type": "execute_result"
    }
   ],
   "source": [
    "x2_train.shape"
   ]
  },
  {
   "cell_type": "code",
   "execution_count": 10,
   "metadata": {},
   "outputs": [
    {
     "data": {
      "text/plain": [
       "LinearRegression(copy_X=True, fit_intercept=True, n_jobs=1, normalize=False)"
      ]
     },
     "execution_count": 10,
     "metadata": {},
     "output_type": "execute_result"
    }
   ],
   "source": [
    "clf2 = sklearn.linear_model.LinearRegression()\n",
    "clf2.fit(x2_train, y_train)"
   ]
  },
  {
   "cell_type": "code",
   "execution_count": 11,
   "metadata": {},
   "outputs": [
    {
     "name": "stdout",
     "output_type": "stream",
     "text": [
      "[-100262.17515853]\n",
      "[[245.18871442  65.27158522]]\n"
     ]
    }
   ],
   "source": [
    "print(clf2.intercept_)\n",
    "print(clf2.coef_)"
   ]
  },
  {
   "cell_type": "code",
   "execution_count": 12,
   "metadata": {},
   "outputs": [
    {
     "data": {
      "text/plain": [
       "array([[366541.10816718],\n",
       "       [762725.72477249],\n",
       "       [386240.25928765],\n",
       "       ...,\n",
       "       [682097.7799554 ],\n",
       "       [585570.75612155],\n",
       "       [216407.33048282]])"
      ]
     },
     "execution_count": 12,
     "metadata": {},
     "output_type": "execute_result"
    }
   ],
   "source": [
    "clf2.predict(x2_test)"
   ]
  },
  {
   "cell_type": "code",
   "execution_count": 13,
   "metadata": {},
   "outputs": [
    {
     "data": {
      "text/plain": [
       "array([[310000.],\n",
       "       [650000.],\n",
       "       [233000.],\n",
       "       ...,\n",
       "       [610685.],\n",
       "       [400000.],\n",
       "       [402101.]])"
      ]
     },
     "execution_count": 13,
     "metadata": {},
     "output_type": "execute_result"
    }
   ],
   "source": [
    "y_test"
   ]
  },
  {
   "cell_type": "code",
   "execution_count": 14,
   "metadata": {},
   "outputs": [
    {
     "data": {
      "text/plain": [
       "63908832943.749245"
      ]
     },
     "execution_count": 14,
     "metadata": {},
     "output_type": "execute_result"
    }
   ],
   "source": [
    "sklearn.metrics.mean_squared_error(y_test, clf2.predict(x2_test))"
   ]
  },
  {
   "cell_type": "markdown",
   "metadata": {},
   "source": [
    "# This homework must hand with numpy !!!"
   ]
  },
  {
   "cell_type": "code",
   "execution_count": 6,
   "metadata": {},
   "outputs": [
    {
     "name": "stdout",
     "output_type": "stream",
     "text": [
      "RangeIndex(start=0, stop=17384, step=1)\n",
      "Index(['id', 'date', 'price', 'bedrooms', 'bathrooms', 'sqft_living',\n",
      "       'sqft_lot', 'floors', 'waterfront', 'view', 'condition', 'grade',\n",
      "       'sqft_above', 'sqft_basement', 'yr_built', 'yr_renovated', 'zipcode',\n",
      "       'lat', 'long', 'sqft_living15', 'sqft_lot15'],\n",
      "      dtype='object')\n",
      "(17384, 21)\n",
      "(4229, 21)\n"
     ]
    },
    {
     "data": {
      "text/html": [
       "<div>\n",
       "<style scoped>\n",
       "    .dataframe tbody tr th:only-of-type {\n",
       "        vertical-align: middle;\n",
       "    }\n",
       "\n",
       "    .dataframe tbody tr th {\n",
       "        vertical-align: top;\n",
       "    }\n",
       "\n",
       "    .dataframe thead th {\n",
       "        text-align: right;\n",
       "    }\n",
       "</style>\n",
       "<table border=\"1\" class=\"dataframe\">\n",
       "  <thead>\n",
       "    <tr style=\"text-align: right;\">\n",
       "      <th></th>\n",
       "      <th>id</th>\n",
       "      <th>date</th>\n",
       "      <th>price</th>\n",
       "      <th>bedrooms</th>\n",
       "      <th>bathrooms</th>\n",
       "      <th>sqft_living</th>\n",
       "      <th>sqft_lot</th>\n",
       "      <th>floors</th>\n",
       "      <th>waterfront</th>\n",
       "      <th>view</th>\n",
       "      <th>...</th>\n",
       "      <th>grade</th>\n",
       "      <th>sqft_above</th>\n",
       "      <th>sqft_basement</th>\n",
       "      <th>yr_built</th>\n",
       "      <th>yr_renovated</th>\n",
       "      <th>zipcode</th>\n",
       "      <th>lat</th>\n",
       "      <th>long</th>\n",
       "      <th>sqft_living15</th>\n",
       "      <th>sqft_lot15</th>\n",
       "    </tr>\n",
       "  </thead>\n",
       "  <tbody>\n",
       "    <tr>\n",
       "      <th>0</th>\n",
       "      <td>7129300520</td>\n",
       "      <td>20141013T000000</td>\n",
       "      <td>221900.0</td>\n",
       "      <td>3</td>\n",
       "      <td>1.00</td>\n",
       "      <td>1180</td>\n",
       "      <td>5650</td>\n",
       "      <td>1.0</td>\n",
       "      <td>0</td>\n",
       "      <td>0</td>\n",
       "      <td>...</td>\n",
       "      <td>7</td>\n",
       "      <td>1180</td>\n",
       "      <td>0</td>\n",
       "      <td>1955</td>\n",
       "      <td>0</td>\n",
       "      <td>98178</td>\n",
       "      <td>47.5112</td>\n",
       "      <td>-122.257</td>\n",
       "      <td>1340</td>\n",
       "      <td>5650</td>\n",
       "    </tr>\n",
       "    <tr>\n",
       "      <th>1</th>\n",
       "      <td>6414100192</td>\n",
       "      <td>20141209T000000</td>\n",
       "      <td>538000.0</td>\n",
       "      <td>3</td>\n",
       "      <td>2.25</td>\n",
       "      <td>2570</td>\n",
       "      <td>7242</td>\n",
       "      <td>2.0</td>\n",
       "      <td>0</td>\n",
       "      <td>0</td>\n",
       "      <td>...</td>\n",
       "      <td>7</td>\n",
       "      <td>2170</td>\n",
       "      <td>400</td>\n",
       "      <td>1951</td>\n",
       "      <td>1991</td>\n",
       "      <td>98125</td>\n",
       "      <td>47.7210</td>\n",
       "      <td>-122.319</td>\n",
       "      <td>1690</td>\n",
       "      <td>7639</td>\n",
       "    </tr>\n",
       "    <tr>\n",
       "      <th>2</th>\n",
       "      <td>5631500400</td>\n",
       "      <td>20150225T000000</td>\n",
       "      <td>180000.0</td>\n",
       "      <td>2</td>\n",
       "      <td>1.00</td>\n",
       "      <td>770</td>\n",
       "      <td>10000</td>\n",
       "      <td>1.0</td>\n",
       "      <td>0</td>\n",
       "      <td>0</td>\n",
       "      <td>...</td>\n",
       "      <td>6</td>\n",
       "      <td>770</td>\n",
       "      <td>0</td>\n",
       "      <td>1933</td>\n",
       "      <td>0</td>\n",
       "      <td>98028</td>\n",
       "      <td>47.7379</td>\n",
       "      <td>-122.233</td>\n",
       "      <td>2720</td>\n",
       "      <td>8062</td>\n",
       "    </tr>\n",
       "    <tr>\n",
       "      <th>3</th>\n",
       "      <td>2487200875</td>\n",
       "      <td>20141209T000000</td>\n",
       "      <td>604000.0</td>\n",
       "      <td>4</td>\n",
       "      <td>3.00</td>\n",
       "      <td>1960</td>\n",
       "      <td>5000</td>\n",
       "      <td>1.0</td>\n",
       "      <td>0</td>\n",
       "      <td>0</td>\n",
       "      <td>...</td>\n",
       "      <td>7</td>\n",
       "      <td>1050</td>\n",
       "      <td>910</td>\n",
       "      <td>1965</td>\n",
       "      <td>0</td>\n",
       "      <td>98136</td>\n",
       "      <td>47.5208</td>\n",
       "      <td>-122.393</td>\n",
       "      <td>1360</td>\n",
       "      <td>5000</td>\n",
       "    </tr>\n",
       "    <tr>\n",
       "      <th>4</th>\n",
       "      <td>1954400510</td>\n",
       "      <td>20150218T000000</td>\n",
       "      <td>510000.0</td>\n",
       "      <td>3</td>\n",
       "      <td>2.00</td>\n",
       "      <td>1680</td>\n",
       "      <td>8080</td>\n",
       "      <td>1.0</td>\n",
       "      <td>0</td>\n",
       "      <td>0</td>\n",
       "      <td>...</td>\n",
       "      <td>8</td>\n",
       "      <td>1680</td>\n",
       "      <td>0</td>\n",
       "      <td>1987</td>\n",
       "      <td>0</td>\n",
       "      <td>98074</td>\n",
       "      <td>47.6168</td>\n",
       "      <td>-122.045</td>\n",
       "      <td>1800</td>\n",
       "      <td>7503</td>\n",
       "    </tr>\n",
       "  </tbody>\n",
       "</table>\n",
       "<p>5 rows × 21 columns</p>\n",
       "</div>"
      ],
      "text/plain": [
       "           id             date     price  bedrooms  bathrooms  sqft_living  \\\n",
       "0  7129300520  20141013T000000  221900.0         3       1.00         1180   \n",
       "1  6414100192  20141209T000000  538000.0         3       2.25         2570   \n",
       "2  5631500400  20150225T000000  180000.0         2       1.00          770   \n",
       "3  2487200875  20141209T000000  604000.0         4       3.00         1960   \n",
       "4  1954400510  20150218T000000  510000.0         3       2.00         1680   \n",
       "\n",
       "   sqft_lot  floors  waterfront  view     ...      grade  sqft_above  \\\n",
       "0      5650     1.0           0     0     ...          7        1180   \n",
       "1      7242     2.0           0     0     ...          7        2170   \n",
       "2     10000     1.0           0     0     ...          6         770   \n",
       "3      5000     1.0           0     0     ...          7        1050   \n",
       "4      8080     1.0           0     0     ...          8        1680   \n",
       "\n",
       "   sqft_basement  yr_built  yr_renovated  zipcode      lat     long  \\\n",
       "0              0      1955             0    98178  47.5112 -122.257   \n",
       "1            400      1951          1991    98125  47.7210 -122.319   \n",
       "2              0      1933             0    98028  47.7379 -122.233   \n",
       "3            910      1965             0    98136  47.5208 -122.393   \n",
       "4              0      1987             0    98074  47.6168 -122.045   \n",
       "\n",
       "   sqft_living15  sqft_lot15  \n",
       "0           1340        5650  \n",
       "1           1690        7639  \n",
       "2           2720        8062  \n",
       "3           1360        5000  \n",
       "4           1800        7503  \n",
       "\n",
       "[5 rows x 21 columns]"
      ]
     },
     "execution_count": 6,
     "metadata": {},
     "output_type": "execute_result"
    }
   ],
   "source": [
    "print(data_train.index)\n",
    "print(data_test.columns)\n",
    "print(data_train.shape)\n",
    "print(data_test.shape)\n",
    "data_train.head()"
   ]
  },
  {
   "cell_type": "code",
   "execution_count": 7,
   "metadata": {},
   "outputs": [
    {
     "data": {
      "text/plain": [
       "array([[2.219e+05, 3.000e+00],\n",
       "       [5.380e+05, 3.000e+00],\n",
       "       [1.800e+05, 2.000e+00],\n",
       "       ...,\n",
       "       [3.600e+05, 3.000e+00],\n",
       "       [4.000e+05, 3.000e+00],\n",
       "       [3.250e+05, 2.000e+00]])"
      ]
     },
     "execution_count": 7,
     "metadata": {},
     "output_type": "execute_result"
    }
   ],
   "source": [
    "data_train[['price','bedrooms']].values"
   ]
  },
  {
   "cell_type": "code",
   "execution_count": 8,
   "metadata": {},
   "outputs": [],
   "source": [
    "def get_numpy_data(data_sframe, features_name, output_name):\n",
    "    data_sframe['constant'] = 1 # add a constant column to an SFrame\n",
    "    features_matrix = data_sframe[ (['constant'] + features_name) ].values\n",
    "    output_array = data_sframe[output_name].values\n",
    "    return(features_matrix, output_array)"
   ]
  },
  {
   "cell_type": "code",
   "execution_count": 9,
   "metadata": {},
   "outputs": [],
   "source": [
    "def predict_outcome(feature_matrix, weights):\n",
    "    predictions = feature_matrix.dot(weights)\n",
    "    return(predictions)"
   ]
  },
  {
   "cell_type": "code",
   "execution_count": 10,
   "metadata": {},
   "outputs": [],
   "source": [
    "def feature_derivative(errors, feature):\n",
    "    derivative = (-2)*np.sum(errors * feature)\n",
    "    return(derivative)"
   ]
  },
  {
   "cell_type": "code",
   "execution_count": 31,
   "metadata": {},
   "outputs": [],
   "source": [
    "def regression_gradient_descent(feature_matrix, y_true, initial_weights, step_size, tolerance):\n",
    "    converged = False\n",
    "    weights = np.array(initial_weights)\n",
    "    while not converged:\n",
    "#     for ii in range(10):\n",
    "        # compute the predictions based on feature_matrix and weights:\n",
    "        # compute the errors as predictions - output:\n",
    "#         errors = predict_outcome(feature_matrix, weights) - y_true \n",
    "        # !!! 就是这个地方害的\n",
    "        errors = -predict_outcome(feature_matrix, weights) + y_true \n",
    "        # 本来应该是 y - y_predict 的，这样才对应 w = w - alpha*grad\n",
    "        gradient_sum_squares = 0 # initialize the gradient\n",
    "        # while not converged, update each weight individually:\n",
    "        for i in range(len(weights)):\n",
    "            # Recall that feature_matrix[:, i] is the feature column associated with weights[i]\n",
    "            # compute the derivative for weight[i]:\n",
    "            derivative = feature_derivative(errors, feature_matrix[:, i])\n",
    "            # add the squared derivative to the gradient magnitude\n",
    "            gradient_sum_squares += derivative**2\n",
    "            # update the weight based on step size and derivative:\n",
    "            weights[i] = weights[i] - step_size*derivative\n",
    "        rss = len(y_true) * sklearn.metrics.mean_squared_error(y_true, predict_outcome(feature_matrix, weights))\n",
    "        print(rss)\n",
    "        gradient_magnitude = np.sqrt(gradient_sum_squares)\n",
    "        print('weights[i]:',weights[i], ' derivative:', derivative, ' :gradient_magnitude', gradient_magnitude)\n",
    "        if gradient_magnitude < tolerance:\n",
    "            converged = True\n",
    "    return(weights)"
   ]
  },
  {
   "cell_type": "markdown",
   "metadata": {},
   "source": [
    "## homework1,2:"
   ]
  },
  {
   "cell_type": "code",
   "execution_count": 18,
   "metadata": {},
   "outputs": [
    {
     "data": {
      "text/plain": [
       "array([-4.7e+04,  1.0e+00])"
      ]
     },
     "execution_count": 18,
     "metadata": {},
     "output_type": "execute_result"
    }
   ],
   "source": [
    "np.array([-47000., 1.])"
   ]
  },
  {
   "cell_type": "code",
   "execution_count": 27,
   "metadata": {},
   "outputs": [],
   "source": [
    "simple_features_name = ['sqft_living']\n",
    "my_output_name= 'price'\n",
    "(simple_feature_matrix, y_true) = get_numpy_data(data_train, simple_features_name, my_output_name)\n",
    "initial_weights = np.array([-47000., 1.])\n",
    "step_size = 7e-12\n",
    "tolerance = 2.5e7"
   ]
  },
  {
   "cell_type": "code",
   "execution_count": 28,
   "metadata": {},
   "outputs": [
    {
     "data": {
      "text/plain": [
       "array([221900., 538000., 180000., ..., 360000., 400000., 325000.])"
      ]
     },
     "execution_count": 28,
     "metadata": {},
     "output_type": "execute_result"
    }
   ],
   "source": [
    "y_true"
   ]
  },
  {
   "cell_type": "code",
   "execution_count": 29,
   "metadata": {},
   "outputs": [
    {
     "name": "stdout",
     "output_type": "stream",
     "text": [
      "1680732633349715.2\n",
      "weights[i]: 354.860686922526  derivative: -50551526703218.0  :gradient_magnitude 50551530784973.43\n",
      "1234207738742912.0\n",
      "weights[i]: 262.9685371605816  derivative: 13127449965992.057  :gradient_magnitude 13127451026296.443\n",
      "1204095858980868.8\n",
      "weights[i]: 286.8315078182051  derivative: -3408995808231.932  :gradient_magnitude 3408996083241.06\n",
      "1202065232438527.0\n",
      "weights[i]: 280.6346632584699  derivative: 885263508533.6006  :gradient_magnitude 885263580285.0402\n",
      "1201928294984368.8\n",
      "weights[i]: 282.2438879907589  derivative: -229889247469.85522  :gradient_magnitude 229889265767.8969\n",
      "1201919060461936.2\n",
      "weights[i]: 281.82599720848896  derivative: 59698683181.42047  :gradient_magnitude 59698688272.160736\n",
      "1201918437722121.0\n",
      "weights[i]: 281.9345169864691  derivative: -15502825425.727875  :gradient_magnitude 15502826425.342974\n",
      "1201918395726998.2\n",
      "weights[i]: 281.9063360801751  derivative: 4025843756.279846  :gradient_magnitude 4025844402.3531156\n",
      "1201918392895010.0\n",
      "weights[i]: 281.9136542282165  derivative: -1045449720.2025452  :gradient_magnitude 1045449748.3934548\n",
      "1201918392704029.2\n",
      "weights[i]: 281.91175382065666  derivative: 271486794.2632141  :gradient_magnitude 271487891.9527248\n",
      "1201918392691147.0\n",
      "weights[i]: 281.9122473294691  derivative: -70501258.9201355  :gradient_magnitude 70504114.84457313\n",
      "1201918392690275.5\n",
      "weights[i]: 281.91211917520917  derivative: 18307751.415039062  :gradient_magnitude 18320017.267754517\n",
      "1201918392690213.5\n",
      "weights[i]: 281.9121524572384  derivative: -4754575.59954834  :gradient_magnitude 4800304.311812227\n",
      "1201918392690206.8\n",
      "weights[i]: 281.91214381675906  derivative: 1234354.1923828125  :gradient_magnitude 1401338.708637215\n",
      "1201918392690203.5\n",
      "weights[i]: 281.9121460629071  derivative: -320878.28802490234  :gradient_magnitude 736378.8865639069\n",
      "1201918392690200.5\n",
      "weights[i]: 281.91214548196626  derivative: 82991.54397583008  :gradient_magnitude 668127.0256224456\n",
      "1201918392690197.2\n",
      "weights[i]: 281.9121456351768  derivative: -21887.213409423828  :gradient_magnitude 663271.6329176094\n",
      "1201918392690194.0\n",
      "weights[i]: 281.9121455977395  derivative: 5348.189392089844  :gradient_magnitude 662942.899726265\n",
      "1201918392690191.5\n",
      "weights[i]: 281.91214560981047  derivative: -1724.4266967773438  :gradient_magnitude 662920.7006242155\n",
      "1201918392690188.0\n",
      "weights[i]: 281.91214560902495  derivative: 112.21792602539062  :gradient_magnitude 662919.178897195\n",
      "1201918392690185.0\n",
      "weights[i]: 281.91214561157807  derivative: -364.7296142578125  :gradient_magnitude 662919.0515877379\n",
      "1201918392690182.0\n",
      "weights[i]: 281.91214561326416  derivative: -240.8709716796875  :gradient_magnitude 662919.0183125839\n",
      "1201918392690178.8\n",
      "weights[i]: 281.91214561517546  derivative: -273.0404357910156  :gradient_magnitude 662918.9913786141\n",
      "1201918392690175.8\n",
      "weights[i]: 281.9121456170282  derivative: -264.68035888671875  :gradient_magnitude 662918.9648721344\n",
      "1201918392690172.8\n",
      "weights[i]: 281.9121456188962  derivative: -266.8576354980469  :gradient_magnitude 662918.9383947459\n",
      "1201918392690169.5\n",
      "weights[i]: 281.91214562076027  derivative: -266.2920227050781  :gradient_magnitude 662918.9119190334\n",
      "1201918392690166.2\n",
      "weights[i]: 281.9121456226253  derivative: -266.4336242675781  :gradient_magnitude 662918.8854436689\n",
      "1201918392690163.2\n",
      "weights[i]: 281.9121456244901  derivative: -266.400146484375  :gradient_magnitude 662918.8589681685\n",
      "1201918392690160.2\n",
      "weights[i]: 281.91214562635497  derivative: -266.4089050292969  :gradient_magnitude 662918.8324928932\n",
      "1201918392690157.2\n",
      "weights[i]: 281.91214562821983  derivative: -266.40594482421875  :gradient_magnitude 662918.8060172448\n",
      "1201918392690154.2\n",
      "weights[i]: 281.91214563008464  derivative: -266.404296875  :gradient_magnitude 662918.779541915\n",
      "1201918392690151.2\n",
      "weights[i]: 281.9121456319495  derivative: -266.41168212890625  :gradient_magnitude 662918.7530663562\n",
      "1201918392690147.8\n",
      "weights[i]: 281.91214563381436  derivative: -266.41046142578125  :gradient_magnitude 662918.7265911609\n",
      "1201918392690145.0\n",
      "weights[i]: 281.9121456356792  derivative: -266.4072265625  :gradient_magnitude 662918.700115499\n",
      "1201918392690142.0\n",
      "weights[i]: 281.9121456375441  derivative: -266.4059753417969  :gradient_magnitude 662918.6736402467\n",
      "1201918392690138.8\n",
      "weights[i]: 281.9121456394089  derivative: -266.40289306640625  :gradient_magnitude 662918.6471646237\n",
      "1201918392690135.8\n",
      "weights[i]: 281.91214564127375  derivative: -266.41204833984375  :gradient_magnitude 662918.6206894334\n",
      "1201918392690132.5\n",
      "weights[i]: 281.9121456431386  derivative: -266.40863037109375  :gradient_magnitude 662918.5942138023\n",
      "1201918392690129.5\n",
      "weights[i]: 281.9121456450035  derivative: -266.4073486328125  :gradient_magnitude 662918.5677385228\n",
      "1201918392690126.5\n",
      "weights[i]: 281.9121456468683  derivative: -266.4044494628906  :gradient_magnitude 662918.5412629808\n",
      "1201918392690123.5\n",
      "weights[i]: 281.9121456487332  derivative: -266.41314697265625  :gradient_magnitude 662918.5147875991\n",
      "1201918392690120.5\n",
      "weights[i]: 281.912145650598  derivative: -266.3996887207031  :gradient_magnitude 662918.4883119786\n",
      "1201918392690117.2\n",
      "weights[i]: 281.91214565246287  derivative: -266.4086608886719  :gradient_magnitude 662918.4618367594\n",
      "1201918392690114.2\n",
      "weights[i]: 281.91214565432773  derivative: -266.4056091308594  :gradient_magnitude 662918.435361171\n",
      "1201918392690111.2\n",
      "weights[i]: 281.91214565619254  derivative: -266.4044189453125  :gradient_magnitude 662918.4088859583\n",
      "1201918392690108.2\n",
      "weights[i]: 281.9121456580574  derivative: -266.411376953125  :gradient_magnitude 662918.3824102798\n",
      "1201918392690105.0\n",
      "weights[i]: 281.91214565992226  derivative: -266.4101257324219  :gradient_magnitude 662918.3559350648\n",
      "1201918392690102.0\n",
      "weights[i]: 281.9121456617871  derivative: -266.4071044921875  :gradient_magnitude 662918.3294594962\n",
      "1201918392690098.8\n",
      "weights[i]: 281.912145663652  derivative: -266.4056091308594  :gradient_magnitude 662918.3029841756\n",
      "1201918392690096.0\n",
      "weights[i]: 281.9121456655168  derivative: -266.40264892578125  :gradient_magnitude 662918.2765085793\n",
      "1201918392690092.5\n",
      "weights[i]: 281.91214566738165  derivative: -266.4112854003906  :gradient_magnitude 662918.2500332922\n",
      "1201918392690089.5\n",
      "weights[i]: 281.9121456692465  derivative: -266.408447265625  :gradient_magnitude 662918.2235577375\n",
      "1201918392690086.2\n",
      "weights[i]: 281.9121456711114  derivative: -266.4069519042969  :gradient_magnitude 662918.1970824989\n",
      "1201918392690083.5\n",
      "weights[i]: 281.9121456729762  derivative: -266.4031066894531  :gradient_magnitude 662918.1706071207\n",
      "1201918392690080.2\n",
      "weights[i]: 281.91214567484104  derivative: -266.41119384765625  :gradient_magnitude 662918.1441318961\n",
      "1201918392690077.5\n",
      "weights[i]: 281.9121456767059  derivative: -266.40814208984375  :gradient_magnitude 662918.1176564492\n",
      "1201918392690074.2\n",
      "weights[i]: 281.91214567857077  derivative: -266.4068603515625  :gradient_magnitude 662918.0911811475\n",
      "1201918392690071.2\n",
      "weights[i]: 281.9121456804356  derivative: -266.40386962890625  :gradient_magnitude 662918.0647056432\n",
      "1201918392690068.0\n",
      "weights[i]: 281.91214568230043  derivative: -266.41107177734375  :gradient_magnitude 662918.0382300108\n",
      "1201918392690065.0\n",
      "weights[i]: 281.9121456841653  derivative: -266.40966796875  :gradient_magnitude 662918.0117547493\n",
      "1201918392690061.8\n",
      "weights[i]: 281.91214568603016  derivative: -266.40673828125  :gradient_magnitude 662917.9852792622\n",
      "1201918392690058.8\n",
      "weights[i]: 281.91214568789496  derivative: -266.4045104980469  :gradient_magnitude 662917.958804072\n",
      "1201918392690055.8\n",
      "weights[i]: 281.9121456897598  derivative: -266.4107360839844  :gradient_magnitude 662917.9323286134\n",
      "1201918392690052.5\n",
      "weights[i]: 281.9121456916247  derivative: -266.40936279296875  :gradient_magnitude 662917.9058534312\n",
      "1201918392690049.5\n",
      "weights[i]: 281.91214569348955  derivative: -266.4065246582031  :gradient_magnitude 662917.8793778616\n",
      "1201918392690046.2\n",
      "weights[i]: 281.91214569535435  derivative: -266.4033203125  :gradient_magnitude 662917.8529024876\n",
      "1201918392690043.8\n",
      "weights[i]: 281.9121456972192  derivative: -266.40771484375  :gradient_magnitude 662917.8264268445\n",
      "1201918392690040.5\n",
      "weights[i]: 281.9121456990841  derivative: -266.40631103515625  :gradient_magnitude 662917.799951583\n",
      "1201918392690037.5\n",
      "weights[i]: 281.9121457009489  derivative: -266.403564453125  :gradient_magnitude 662917.7734761545\n",
      "1201918392690034.2\n",
      "weights[i]: 281.91214570281375  derivative: -266.41107177734375  :gradient_magnitude 662917.7470009874\n",
      "1201918392690031.2\n",
      "weights[i]: 281.9121457046786  derivative: -266.40777587890625  :gradient_magnitude 662917.7205255617\n",
      "1201918392690028.0\n",
      "weights[i]: 281.91214570654347  derivative: -266.406005859375  :gradient_magnitude 662917.69405025\n",
      "1201918392690025.0\n",
      "weights[i]: 281.9121457084083  derivative: -266.4031677246094  :gradient_magnitude 662917.6675747475\n",
      "1201918392690021.8\n",
      "weights[i]: 281.91214571027314  derivative: -266.4111022949219  :gradient_magnitude 662917.6410992827\n",
      "1201918392690019.0\n",
      "weights[i]: 281.912145712138  derivative: -266.408935546875  :gradient_magnitude 662917.6146238561\n",
      "1201918392690015.5\n",
      "weights[i]: 281.91214571400286  derivative: -266.4059753417969  :gradient_magnitude 662917.5881483121\n",
      "1201918392690012.5\n",
      "weights[i]: 281.91214571586767  derivative: -266.4042053222656  :gradient_magnitude 662917.5616730525\n",
      "1201918392690009.2\n",
      "weights[i]: 281.9121457177325  derivative: -266.4111328125  :gradient_magnitude 662917.53519763\n",
      "1201918392690006.5\n",
      "weights[i]: 281.9121457195974  derivative: -266.40863037109375  :gradient_magnitude 662917.5087224933\n",
      "1201918392690003.5\n",
      "weights[i]: 281.91214572146225  derivative: -266.4057312011719  :gradient_magnitude 662917.4822470035\n",
      "1201918392690000.5\n",
      "weights[i]: 281.91214572332706  derivative: -266.4042663574219  :gradient_magnitude 662917.4557716654\n",
      "1201918392689997.5\n",
      "weights[i]: 281.9121457251919  derivative: -266.4092712402344  :gradient_magnitude 662917.4292960664\n",
      "1201918392689994.0\n",
      "weights[i]: 281.9121457270568  derivative: -266.40582275390625  :gradient_magnitude 662917.4028207433\n",
      "1201918392689991.2\n",
      "weights[i]: 281.9121457289216  derivative: -266.4027099609375  :gradient_magnitude 662917.3763451378\n",
      "1201918392689988.0\n",
      "weights[i]: 281.91214573078645  derivative: -266.4114074707031  :gradient_magnitude 662917.3498699274\n",
      "1201918392689985.0\n",
      "weights[i]: 281.9121457326513  derivative: -266.40765380859375  :gradient_magnitude 662917.3233945487\n",
      "1201918392689981.8\n",
      "weights[i]: 281.9121457345162  derivative: -266.4055480957031  :gradient_magnitude 662917.2969194076\n",
      "1201918392689978.8\n",
      "weights[i]: 281.912145736381  derivative: -266.402587890625  :gradient_magnitude 662917.2704439156\n",
      "1201918392689975.5\n",
      "weights[i]: 281.91214573824584  derivative: -266.4112854003906  :gradient_magnitude 662917.243968586\n",
      "1201918392689972.8\n",
      "weights[i]: 281.9121457401107  derivative: -266.4084167480469  :gradient_magnitude 662917.2174930116\n",
      "1201918392689969.5\n",
      "weights[i]: 281.91214574197556  derivative: -266.4052734375  :gradient_magnitude 662917.1910174832\n",
      "1201918392689966.5\n",
      "weights[i]: 281.91214574384037  derivative: -266.4032287597656  :gradient_magnitude 662917.1645423668\n",
      "1201918392689963.2\n",
      "weights[i]: 281.91214574570523  derivative: -266.40936279296875  :gradient_magnitude 662917.1380670277\n",
      "1201918392689960.5\n",
      "weights[i]: 281.9121457475701  derivative: -266.4059143066406  :gradient_magnitude 662917.111591712\n",
      "1201918392689957.5\n",
      "weights[i]: 281.9121457494349  derivative: -266.40081787109375  :gradient_magnitude 662917.0851161066\n",
      "1201918392689954.2\n",
      "weights[i]: 281.91214575129976  derivative: -266.40869140625  :gradient_magnitude 662917.0586410493\n",
      "1201918392689951.2\n",
      "weights[i]: 281.9121457531646  derivative: -266.4049072265625  :gradient_magnitude 662917.0321656509\n",
      "1201918392689947.8\n",
      "weights[i]: 281.9121457550294  derivative: -266.4026794433594  :gradient_magnitude 662917.0056902224\n",
      "1201918392689945.0\n",
      "weights[i]: 281.9121457568943  derivative: -266.4105529785156  :gradient_magnitude 662916.9792147703\n",
      "1201918392689941.8\n",
      "weights[i]: 281.91214575875915  derivative: -266.4072265625  :gradient_magnitude 662916.9527394738\n"
     ]
    },
    {
     "data": {
      "text/plain": [
       "array([-46999.88757389,    281.91214576])"
      ]
     },
     "execution_count": 29,
     "metadata": {},
     "output_type": "execute_result"
    }
   ],
   "source": [
    "weights = regression_gradient_descent(simple_feature_matrix, y_true, initial_weights, step_size, tolerance)\n",
    "weights"
   ]
  },
  {
   "cell_type": "code",
   "execution_count": 176,
   "metadata": {},
   "outputs": [],
   "source": [
    "(x_test, y_test) = get_numpy_data(data_test, simple_features_name, my_output_name)"
   ]
  },
  {
   "cell_type": "code",
   "execution_count": 177,
   "metadata": {},
   "outputs": [
    {
     "data": {
      "text/plain": [
       "array([356134.443255  , 784640.86440132, 435069.83662406, ...,\n",
       "       663418.65315598, 604217.10812919, 240550.47439317])"
      ]
     },
     "execution_count": 177,
     "metadata": {},
     "output_type": "execute_result"
    }
   ],
   "source": [
    "predict_outcome(x_test, weights)"
   ]
  },
  {
   "cell_type": "code",
   "execution_count": 178,
   "metadata": {},
   "outputs": [
    {
     "data": {
      "text/plain": [
       "275400044902128.3"
      ]
     },
     "execution_count": 178,
     "metadata": {},
     "output_type": "execute_result"
    }
   ],
   "source": [
    "len(y_test) * sklearn.metrics.mean_squared_error(y_test, predict_outcome(x_test, weights))"
   ]
  },
  {
   "cell_type": "code",
   "execution_count": 179,
   "metadata": {},
   "outputs": [
    {
     "data": {
      "text/plain": [
       "array([310000., 650000., 233000., ..., 610685., 400000., 402101.])"
      ]
     },
     "execution_count": 179,
     "metadata": {},
     "output_type": "execute_result"
    }
   ],
   "source": [
    "y_test"
   ]
  },
  {
   "cell_type": "code",
   "execution_count": null,
   "metadata": {},
   "outputs": [],
   "source": []
  },
  {
   "cell_type": "markdown",
   "metadata": {},
   "source": [
    "## homework3,4:"
   ]
  },
  {
   "cell_type": "code",
   "execution_count": 180,
   "metadata": {},
   "outputs": [],
   "source": [
    "model_features_name = ['sqft_living', 'sqft_living15']\n",
    "my_output_name = 'price'\n",
    "(feature_matrix, y_true) = get_numpy_data(data_train, model_features,my_output)\n",
    "initial_weights = np.array([-100000., 1., 1.])\n",
    "step_size = 4e-12\n",
    "tolerance = 1e9"
   ]
  },
  {
   "cell_type": "code",
   "execution_count": 181,
   "metadata": {},
   "outputs": [
    {
     "name": "stdout",
     "output_type": "stream",
     "text": [
      "weights[i]: 196.92903734403998  derivative: 48982259336010.0  :gradient_magnitude 73072020556001.0\n",
      "weights[i]: 133.50564930194122  derivative: -15855847010524.693  :gradient_magnitude 22673220967534.742\n",
      "weights[i]: 150.58566314222344  derivative: 4270003460070.5547  :gradient_magnitude 7060794583490.456\n",
      "weights[i]: 142.75832408202035  derivative: -1956834765050.769  :gradient_magnitude 2275682396587.625\n",
      "weights[i]: 142.71624194693015  derivative: -10520533772.54712  :gradient_magnitude 928984110636.1498\n",
      "weights[i]: 140.31809341312388  derivative: -599537133451.5697  :gradient_magnitude 656307431862.795\n",
      "weights[i]: 138.70790836436453  derivative: -402546262189.83795  :gradient_magnitude 610615358663.3832\n",
      "weights[i]: 136.909181048812  derivative: -449681828888.1298  :gradient_magnitude 593078772020.3286\n",
      "weights[i]: 135.22345812622052  derivative: -421430730647.8709  :gradient_magnitude 578705926685.8693\n",
      "weights[i]: 133.55591855120844  derivative: -416884893753.0187  :gradient_magnitude 564945682565.4805\n",
      "weights[i]: 131.93470888763127  derivative: -405302415894.2899  :gradient_magnitude 551538687674.9816\n",
      "weights[i]: 130.34986618527634  derivative: -396210675588.7326  :gradient_magnitude 538452428981.17957\n",
      "weights[i]: 128.8032767490425  derivative: -386647359058.4592  :gradient_magnitude 525676918665.5566\n",
      "weights[i]: 127.29318029511441  derivative: -377524113482.02466  :gradient_magnitude 513204549505.97876\n",
      "weights[i]: 125.81897544494714  derivative: -368551212541.8158  :gradient_magnitude 501028105997.0815\n",
      "weights[i]: 124.37972859764969  derivative: -359811711824.36475  :gradient_magnitude 489140564644.12494\n",
      "weights[i]: 122.9746357703877  derivative: -351273206815.497  :gradient_magnitude 477535070644.76373\n",
      "weights[i]: 121.6028787239796  derivative: -342939261602.0279  :gradient_magnitude 466204932037.81067\n",
      "weights[i]: 120.26366897120421  derivative: -334802438193.84705  :gradient_magnitude 455143615657.4451\n",
      "weights[i]: 118.95623352624631  derivative: -326858861239.4758  :gradient_magnitude 444344743347.638\n",
      "weights[i]: 117.67981873789772  derivative: -319103697087.1479  :gradient_magnitude 433802088282.57275\n",
      "weights[i]: 116.43368852784408  derivative: -311532552513.40845  :gradient_magnitude 423509571375.96674\n",
      "weights[i]: 115.21712437785435  derivative: -304141037497.43353  :gradient_magnitude 413461257775.7427\n",
      "weights[i]: 114.02942478780066  derivative: -296924897513.4212  :gradient_magnitude 403651353441.8816\n",
      "weights[i]: 112.86990491075855  derivative: -289879969260.5283  :gradient_magnitude 394074201805.47595\n",
      "weights[i]: 111.7378961458301  derivative: -283002191232.1119  :gradient_magnitude 384724280507.0483\n",
      "weights[i]: 110.6327457564258  derivative: -276287597351.07605  :gradient_magnitude 375596198212.2584\n",
      "weights[i]: 109.5538164927033  derivative: -269732315930.62683  :gradient_magnitude 366684691503.1623\n",
      "weights[i]: 108.50048622448404  derivative: -263332567054.81915  :gradient_magnitude 357984621843.23083\n",
      "weights[i]: 107.472147582408  derivative: -257084660519.00983  :gradient_magnitude 349490972614.37445\n",
      "weights[i]: 106.46820760774885  derivative: -250984993664.78693  :gradient_magnitude 341198846224.2713\n",
      "weights[i]: 105.48808741049214  derivative: -245030049314.1785  :gradient_magnitude 333103461282.3272\n",
      "weights[i]: 104.53122183554025  derivative: -239216393737.97296  :gradient_magnitude 325200149842.6369\n",
      "weights[i]: 103.59705913683268  derivative: -233540674676.89264  :gradient_magnitude 317484354712.36426\n",
      "weights[i]: 102.68506065919951  derivative: -227999619408.29422  :gradient_magnitude 309951626823.9799\n",
      "weights[i]: 101.79470052776301  derivative: -222590032859.12225  :gradient_magnitude 302597622669.85016\n",
      "weights[i]: 100.92546534470868  derivative: -217308795763.5821  :gradient_magnitude 295418101797.6897\n",
      "weights[i]: 100.07685389325069  derivative: -212152862864.50024  :gradient_magnitude 288408924365.4418\n",
      "weights[i]: 99.24837684862118  derivative: -207119261157.37674  :gradient_magnitude 281566048754.16846\n",
      "weights[i]: 98.43955649591679  derivative: -202205088176.09805  :gradient_magnitude 274885529237.58075\n",
      "weights[i]: 97.64992645463951  derivative: -197407510319.32074  :gradient_magnitude 268363513706.86066\n",
      "weights[i]: 96.87903140977328  derivative: -192723761216.55914  :gradient_magnitude 261996241449.4664\n",
      "weights[i]: 96.12642684924096  derivative: -188151140133.0796  :gradient_magnitude 255780040980.63544\n",
      "weights[i]: 95.39167880759076  derivative: -183687010412.54813  :gradient_magnitude 249711327926.34155\n",
      "weights[i]: 94.67436361576381  derivative: -179328797956.73914  :gradient_magnitude 243786602956.4784\n",
      "weights[i]: 93.97406765679885  derivative: -175073989741.2391  :gradient_magnitude 238002449767.08313\n",
      "weights[i]: 93.29038712733323  derivative: -170920132366.4064  :gradient_magnitude 232355533110.4331\n",
      "weights[i]: 92.62292780476255  derivative: -166864830642.66922  :gradient_magnitude 226842596871.88168\n",
      "weights[i]: 91.9713048199248  derivative: -162905746209.44037  :gradient_magnitude 221460462192.3226\n",
      "weights[i]: 91.33514243517769  derivative: -159040596186.7765  :gradient_magnitude 216206025635.204\n",
      "weights[i]: 90.71407382774164  derivative: -155267151859.01227  :gradient_magnitude 211076257397.02838\n",
      "weights[i]: 90.10774087818301  derivative: -151583237389.66003  :gradient_magnitude 206068199560.3145\n",
      "weights[i]: 89.51579396391601  derivative: -147986728566.75095  :gradient_magnitude 201178964388.00772\n",
      "weights[i]: 88.93789175760392  derivative: -144475551578.02365  :gradient_magnitude 196405732658.3581\n",
      "weights[i]: 88.37370103034351  derivative: -141047681815.10208  :gradient_magnitude 191745752039.30698\n",
      "weights[i]: 87.82289645951938  derivative: -137701142706.0315  :gradient_magnitude 187196335501.44202\n",
      "weights[i]: 87.28516044121683  derivative: -134434004575.63707  :gradient_magnitude 182754859768.60635\n",
      "weights[i]: 86.76018290708575  derivative: -131244383532.77011  :gradient_magnitude 178418763805.27097\n",
      "weights[i]: 86.24766114554969  derivative: -128130440384.0176  :gradient_magnitude 174185547339.7951\n",
      "weights[i]: 85.74729962725662  derivative: -125090379573.26375  :gradient_magnitude 170052769422.72336\n",
      "weights[i]: 85.2588098346717  derivative: -122122448146.23384  :gradient_magnitude 166018047019.2906\n",
      "weights[i]: 84.78191009571243  derivative: -119224934739.81651  :gradient_magnitude 162079053635.32114\n",
      "weights[i]: 84.31632542133174  derivative: -116396168595.17357  :gradient_magnitude 158233517975.7299\n",
      "weights[i]: 83.86178734695413  derivative: -113634518594.4034  :gradient_magnitude 154479222634.85025\n",
      "weights[i]: 83.41803377767418  derivative: -110938392319.98602  :gradient_magnitude 150814002817.84192\n",
      "weights[i]: 82.98480883712794  derivative: -108306235136.56145  :gradient_magnitude 147235745092.42697\n",
      "weights[i]: 82.5618627199498  derivative: -105736529294.53716  :gradient_magnitude 143742386170.24887\n",
      "weights[i]: 82.14895154773035  derivative: -103227793054.86469  :gradient_magnitude 140331911717.14197\n",
      "weights[i]: 81.74583722839158  derivative: -100778579834.69394  :gradient_magnitude 137002355191.62936\n",
      "weights[i]: 81.35228731889865  derivative: -98387477373.23206  :gradient_magnitude 133751796710.98073\n",
      "weights[i]: 80.96807489122912  derivative: -96053106917.38106  :gradient_magnitude 130578361944.1721\n",
      "weights[i]: 80.59297840152202  derivative: -93774122426.77669  :gradient_magnitude 127480221031.11275\n",
      "weights[i]: 80.22678156233167  derivative: -91549209797.58788  :gradient_magnitude 124455587527.51534\n",
      "weights[i]: 79.86927321791246  derivative: -89377086104.801  :gradient_magnitude 121502717374.79834\n",
      "weights[i]: 79.52024722246254  derivative: -87256498862.48169  :gradient_magnitude 118619907894.4312\n",
      "weights[i]: 79.17950232125648  derivative: -85186225301.51532  :gradient_magnitude 115805496806.1392\n",
      "weights[i]: 78.84684203459807  derivative: -83165071664.6018  :gradient_magnitude 113057861269.40155\n",
      "weights[i]: 78.52207454452665  derivative: -81191872517.8562  :gradient_magnitude 110375416947.69302\n",
      "weights[i]: 78.2050125842113  derivative: -79265490078.83646  :gradient_magnitude 107756617094.92615\n",
      "weights[i]: 77.89547332996946  derivative: -77384813560.4588  :gradient_magnitude 105199951663.56929\n",
      "weights[i]: 77.59327829584743  derivative: -75548758530.51013  :gradient_magnitude 102703946433.92622\n",
      "weights[i]: 77.2982532307021  derivative: -73756266286.33105  :gradient_magnitude 100267162164.07416\n",
      "weights[i]: 77.0102280177247  derivative: -72006303244.35132  :gradient_magnitude 97888193759.97087\n",
      "weights[i]: 76.72903657634824  derivative: -70297860344.11655  :gradient_magnitude 95565669465.25171\n",
      "weights[i]: 76.45451676648246  derivative: -68629952466.44452  :gradient_magnitude 93298250070.2497\n",
      "weights[i]: 76.186510295021  derivative: -67001617865.36685  :gradient_magnitude 91084628139.78389\n",
      "weights[i]: 75.92486262456654  derivative: -65411917613.6113  :gradient_magnitude 88923527259.26749\n",
      "weights[i]: 75.66942288432199  derivative: -63859935061.14026  :gradient_magnitude 86813701298.7043\n",
      "weights[i]: 75.42004378309538  derivative: -62344775306.65109  :gradient_magnitude 84753933694.14867\n",
      "weights[i]: 75.17658152436928  derivative: -60865564681.525696  :gradient_magnitude 82743036746.21017\n",
      "weights[i]: 74.93889572338502  derivative: -59421450246.06558  :gradient_magnitude 80779850935.20752\n",
      "weights[i]: 74.70684932619434  derivative: -58011599297.66885  :gradient_magnitude 78863244252.56628\n",
      "weights[i]: 74.48030853063155  derivative: -56635198890.69794  :gradient_magnitude 76992111548.08298\n",
      "weights[i]: 74.25914270916081  derivative: -55291455367.68436  :gradient_magnitude 75165373892.67567\n",
      "weights[i]: 74.04322433355388  derivative: -53979593901.73447  :gradient_magnitude 73381977956.25305\n",
      "weights[i]: 73.83242890135512  derivative: -52698858049.6915  :gradient_magnitude 71640895400.34633\n",
      "weights[i]: 73.62663486409099  derivative: -51448509316.03265  :gradient_magnitude 69941122285.14983\n",
      "weights[i]: 73.42572355718306  derivative: -50227826726.98114  :gradient_magnitude 68281678490.63094\n",
      "weights[i]: 73.2295791315239  derivative: -49036106414.79071  :gradient_magnitude 66661607151.37547\n",
      "weights[i]: 73.03808848667629  derivative: -47872661211.90546  :gradient_magnitude 65079974104.84225\n",
      "weights[i]: 72.85114120565751  derivative: -46736820254.6936  :gradient_magnitude 63535867352.706474\n",
      "weights[i]: 72.66862949127092  derivative: -45627928596.648926  :gradient_magnitude 62028396534.98619\n",
      "weights[i]: 72.49044810394808  derivative: -44545346830.70859  :gradient_magnitude 60556692416.64463\n",
      "weights[i]: 72.31649430106575  derivative: -43488450720.58322  :gradient_magnitude 59119906386.37288\n",
      "weights[i]: 72.14666777770265  derivative: -42456630840.7735  :gradient_magnitude 57717209967.26529\n",
      "weights[i]: 71.98087060880174  derivative: -41449292225.22836  :gradient_magnitude 56347794339.10502\n",
      "weights[i]: 71.81900719270492  derivative: -40465854024.204865  :gradient_magnitude 55010869871.9832\n",
      "weights[i]: 71.66098419602739  derivative: -39505749169.38428  :gradient_magnitude 53705665670.98446\n",
      "weights[i]: 71.50671049983984  derivative: -38568424046.887054  :gradient_magnitude 52431429131.67426\n",
      "weights[i]: 71.35609714712774  derivative: -37653338178.02524  :gradient_magnitude 51187425506.13424\n",
      "weights[i]: 71.20905729149702  derivative: -36759963907.67914  :gradient_magnitude 49972937479.29273\n",
      "weights[i]: 71.06550614709691  derivative: -35887786100.028076  :gradient_magnitude 48787264755.30826\n",
      "weights[i]: 70.92536093973084  derivative: -35036301841.51849  :gradient_magnitude 47629723653.76622\n",
      "weights[i]: 70.78854085912737  derivative: -34205020150.86792  :gradient_magnitude 46499646715.455414\n",
      "weights[i]: 70.65496701234348  derivative: -33393461695.971405  :gradient_magnitude 45396382317.499886\n",
      "weights[i]: 70.52456237827357  derivative: -32601158517.477325  :gradient_magnitude 44319294297.6218\n",
      "weights[i]: 70.39725176323755  derivative: -31827653759.00595  :gradient_magnitude 43267761587.31776\n",
      "weights[i]: 70.27296175762288  derivative: -31072501403.66742  :gradient_magnitude 42241177853.738945\n",
      "weights[i]: 70.15162069355527  derivative: -30335266016.9021  :gradient_magnitude 41238951150.071\n",
      "weights[i]: 70.03315860357363  derivative: -29615522495.413544  :gradient_magnitude 40260503574.20341\n",
      "weights[i]: 69.91750718028558  derivative: -28912855822.009827  :gradient_magnitude 39305270935.50371\n",
      "weights[i]: 69.80459973698021  derivative: -28226860826.343567  :gradient_magnitude 38372702429.49275\n",
      "weights[i]: 69.69437116917524  derivative: -27557141951.242767  :gradient_magnitude 37462260320.24222\n",
      "weights[i]: 69.58675791707665  derivative: -26903313024.648254  :gradient_magnitude 36573419630.30524\n",
      "weights[i]: 69.48169792892892  derivative: -26264997036.93112  :gradient_magnitude 35705667838.0066\n",
      "weights[i]: 69.37913062523488  derivative: -25641825923.51007  :gradient_magnitude 34858504581.91066\n",
      "weights[i]: 69.27899686382446  derivative: -25033440352.604523  :gradient_magnitude 34031441372.306732\n",
      "weights[i]: 69.18123890575225  derivative: -24439489518.05362  :gradient_magnitude 33224001309.53527\n",
      "weights[i]: 69.08580038200415  derivative: -23859630937.024292  :gradient_magnitude 32435718808.999336\n",
      "weights[i]: 68.992626260994  derivative: -23293530252.536316  :gradient_magnitude 31666139332.700592\n",
      "weights[i]: 68.9016628168314  derivative: -22740861040.649536  :gradient_magnitude 30914819127.143078\n",
      "weights[i]: 68.81285759834229  derivative: -22201304622.27997  :gradient_magnitude 30181324967.458694\n",
      "weights[i]: 68.72615939882475  derivative: -21674549879.385376  :gradient_magnitude 29465233907.600834\n",
      "weights[i]: 68.64151822652221  derivative: -21160293075.635345  :gradient_magnitude 28766133036.46528\n",
      "weights[i]: 68.55888527579738  derivative: -20658237681.205505  :gradient_magnitude 28083619239.8004\n",
      "weights[i]: 68.47821289898995  derivative: -20168094201.856598  :gradient_magnitude 27417298967.761555\n",
      "weights[i]: 68.39945457894213  derivative: -19689580011.95764  :gradient_magnitude 26766788007.985226\n",
      "weights[i]: 68.32256490217597  derivative: -19222419191.541077  :gradient_magnitude 26131711264.043568\n",
      "weights[i]: 68.24749953270722  derivative: -18766342367.18744  :gradient_magnitude 25511702539.158585\n",
      "weights[i]: 68.1742151864803  derivative: -18321086556.73242  :gradient_magnitude 24906404325.044945\n",
      "weights[i]: 68.1026696064099  derivative: -17886395017.598206  :gradient_magnitude 24315467595.76505\n",
      "weights[i]: 68.03282153801497  derivative: -17462017098.734528  :gradient_magnitude 23738551606.474064\n",
      "weights[i]: 67.96463070563037  derivative: -17047708096.149841  :gradient_magnitude 23175323696.94033\n",
      "weights[i]: 67.89805778918343  derivative: -16643229111.735962  :gradient_magnitude 22625459099.72806\n",
      "weights[i]: 67.8330644015211  derivative: -16248346915.580322  :gradient_magnitude 22088640752.928513\n",
      "weights[i]: 67.76961306627535  derivative: -15862833811.436615  :gradient_magnitude 21564559117.33927\n",
      "weights[i]: 67.70766719625354  derivative: -15486467505.45227  :gradient_magnitude 21052911997.976\n",
      "weights[i]: 67.64719107234161  derivative: -15119030977.980835  :gradient_magnitude 20553404369.822197\n",
      "weights[i]: 67.58814982290781  derivative: -14760312358.450928  :gradient_magnitude 20065748207.71231\n",
      "weights[i]: 67.530509403695  derivative: -14410104803.199005  :gradient_magnitude 19589662320.2518\n",
      "weights[i]: 67.47423657819026  derivative: -14068206376.18689  :gradient_magnitude 19124872187.67582\n",
      "weights[i]: 67.41929889845994  derivative: -13734419932.57782  :gradient_magnitude 18671109803.55704\n",
      "weights[i]: 67.36566468643973  derivative: -13408553005.05185  :gradient_magnitude 18228113520.268055\n",
      "weights[i]: 67.31330301566845  derivative: -13090417692.820312  :gradient_magnitude 17795627898.110615\n",
      "weights[i]: 67.26218369345528  derivative: -12779830553.291504  :gradient_magnitude 17373403558.024773\n",
      "weights[i]: 67.21227724347018  derivative: -12476612496.275482  :gradient_magnitude 16961197037.791672\n",
      "weights[i]: 67.16355488874721  derivative: -12180588680.740692  :gradient_magnitude 16558770651.64948\n",
      "weights[i]: 67.11598853509129  derivative: -11891588413.981323  :gradient_magnitude 16165892353.238941\n",
      "weights[i]: 67.06955075487846  derivative: -11609445053.205048  :gradient_magnitude 15782335601.80195\n",
      "weights[i]: 67.02421477124084  derivative: -11333995909.408722  :gradient_magnitude 15407879231.553234\n",
      "weights[i]: 66.97995444262625  derivative: -11065082153.645752  :gradient_magnitude 15042307324.152317\n",
      "weights[i]: 66.93674424772493  derivative: -10802548725.330536  :gradient_magnitude 14685409084.201975\n",
      "weights[i]: 66.89455927075312  derivative: -10546244242.951874  :gradient_magnitude 14336978717.698189\n",
      "weights[i]: 66.85337518708646  derivative: -10296020916.665161  :gradient_magnitude 13996815313.367533\n",
      "weights[i]: 66.81316824923371  derivative: -10051734463.186035  :gradient_magnitude 13664722726.816032\n",
      "weights[i]: 66.77391527314373  derivative: -9813244022.497559  :gradient_magnitude 13340509467.429907\n",
      "weights[i]: 66.73559362483702  derivative: -9580412076.675293  :gradient_magnitude 13023988587.959625\n",
      "weights[i]: 66.6981812073546  derivative: -9353104370.608246  :gradient_magnitude 12714977576.719725\n",
      "weights[i]: 66.66165644801644  derivative: -9131189834.536316  :gradient_magnitude 12413298252.351942\n",
      "weights[i]: 66.62599828598242  derivative: -8914540508.507202  :gradient_magnitude 12118776661.082428\n",
      "weights[i]: 66.591186160108  derivative: -8703031468.60498  :gradient_magnitude 11831242976.415003\n",
      "weights[i]: 66.55719999708857  derivative: -8496540754.853638  :gradient_magnitude 11550531401.208048\n",
      "weights[i]: 66.52402019988466  derivative: -8294949300.979431  :gradient_magnitude 11276480072.071648\n",
      "weights[i]: 66.49162763642194  derivative: -8098140865.678711  :gradient_magnitude 11008930966.03509\n",
      "weights[i]: 66.46000362855938  derivative: -7906001965.639709  :gradient_magnitude 10747729809.427118\n",
      "weights[i]: 66.42912994131902  derivative: -7718421810.090363  :gradient_magnitude 10492725988.919437\n",
      "weights[i]: 66.39898877237144  derivative: -7535292236.895203  :gradient_magnitude 10243772464.680508\n",
      "weights[i]: 66.36956274177052  derivative: -7356507650.227417  :gradient_magnitude 10000725685.589214\n",
      "weights[i]: 66.34083488193193  derivative: -7181964959.6475525  :gradient_magnitude 9763445506.461025\n",
      "weights[i]: 66.31278862784923  derivative: -7011563520.673035  :gradient_magnitude 9531795107.237303\n",
      "weights[i]: 66.2854078075423  derivative: -6845205076.733978  :gradient_magnitude 9305640914.093302\n",
      "weights[i]: 66.25867663273212  derivative: -6682793702.543915  :gradient_magnitude 9084852522.41596\n",
      "weights[i]: 66.23257968973715  derivative: -6524235748.743317  :gradient_magnitude 8869302621.610628\n",
      "weights[i]: 66.20710193058534  derivative: -6369439787.951965  :gradient_magnitude 8658866921.692402\n",
      "weights[i]: 66.18222866433739  derivative: -6218316561.988525  :gradient_magnitude 8453424081.616502\n",
      "weights[i]: 66.15794554861546  derivative: -6070778930.482819  :gradient_magnitude 8252855639.312138\n",
      "weights[i]: 66.13423858133328  derivative: -5926741820.544769  :gradient_magnitude 8057045943.374669\n",
      "weights[i]: 66.11109409262225  derivative: -5786122177.757111  :gradient_magnitude 7865882086.379438\n",
      "weights[i]: 66.08849873694909  derivative: -5648838918.290863  :gradient_magnitude 7679253839.776335\n",
      "weights[i]: 66.0664394854206  derivative: -5514812882.122406  :gradient_magnitude 7497053590.33071\n",
      "weights[i]: 66.04490361827096  derivative: -5383966787.408936  :gradient_magnitude 7319176278.07175\n",
      "weights[i]: 66.02387871752731  derivative: -5256225185.9140625  :gradient_magnitude 7145519335.711732\n",
      "weights[i]: 66.00335265984924  derivative: -5131514419.516602  :gradient_magnitude 6975982629.506106\n",
      "weights[i]: 65.98331360953837  derivative: -5009762577.719452  :gradient_magnitude 6810468401.511948\n",
      "weights[i]: 65.96375001171356  derivative: -4890899456.201782  :gradient_magnitude 6648881213.221699\n",
      "weights[i]: 65.94465058564822  derivative: -4774856516.333801  :gradient_magnitude 6491127890.52915\n",
      "weights[i]: 65.92600431826564  derivative: -4661566845.643768  :gradient_magnitude 6337117470.004742\n",
      "weights[i]: 65.9078004577886  derivative: -4550965119.26001  :gradient_magnitude 6186761146.444682\n",
      "weights[i]: 65.89002850753977  derivative: -4442987562.205597  :gradient_magnitude 6039972221.663573\n",
      "weights[i]: 65.87267821988905  derivative: -4337571912.677612  :gradient_magnitude 5896666054.502661\n",
      "weights[i]: 65.85573959034471  derivative: -4234657386.086609  :gradient_magnitude 5756760012.024884\n",
      "weights[i]: 65.83920285178449  derivative: -4134184640.055969  :gradient_magnitude 5620173421.866473\n",
      "weights[i]: 65.82305846882382  derivative: -4036095740.1705017  :gradient_magnitude 5486827525.720291\n",
      "weights[i]: 65.80729713231743  derivative: -3940334126.5951843  :gradient_magnitude 5356645433.921997\n",
      "weights[i]: 65.79190975399167  derivative: -3846844581.4378357  :gradient_magnitude 5229552081.114642\n",
      "weights[i]: 65.7768874612039  derivative: -3755573196.943054  :gradient_magnitude 5105474182.963577\n",
      "weights[i]: 65.76222159182645  derivative: -3666467344.36145  :gradient_magnitude 4984340193.9008045\n",
      "weights[i]: 65.74790368925186  derivative: -3579475643.645691  :gradient_magnitude 4866080265.869331\n",
      "weights[i]: 65.73392549751665  derivative: -3494547933.8013916  :gradient_magnitude 4750626208.048053\n",
      "weights[i]: 65.72027895654078  derivative: -3411635243.9684143  :gradient_magnitude 4637911447.531579\n",
      "weights[i]: 65.70695619748003  derivative: -3330689765.1900635  :gradient_magnitude 4527870990.942995\n",
      "weights[i]: 65.69394953818872  derivative: -3251664822.8282166  :gradient_magnitude 4420441386.957445\n",
      "weights[i]: 65.68125147879005  derivative: -3174514849.6677246  :gradient_magnitude 4315560689.715232\n",
      "weights[i]: 65.66885469735152  derivative: -3099195359.631134  :gradient_magnitude 4213168423.102475\n",
      "weights[i]: 65.65675204566296  derivative: -3025662922.142212  :gradient_magnitude 4113205545.879663\n",
      "weights[i]: 65.64493654511473  derivative: -2953875137.0565186  :gradient_magnitude 4015614417.63766\n",
      "weights[i]: 65.6334013826738  derivative: -2883790610.2328796  :gradient_magnitude 3920338765.559635\n",
      "weights[i]: 65.62213990695514  derivative: -2815368929.662445  :gradient_magnitude 3827323651.975783\n",
      "weights[i]: 65.61114562438651  derivative: -2748570642.159027  :gradient_magnitude 3736515442.6832795\n",
      "weights[i]: 65.600412195464  derivative: -2683357230.6283875  :gradient_magnitude 3647861776.0199866\n",
      "weights[i]: 65.58993343109672  derivative: -2619691091.820648  :gradient_magnitude 3561311532.672479\n",
      "weights[i]: 65.57970328903795  derivative: -2557535514.693695  :gradient_magnitude 3476814806.1996865\n",
      "weights[i]: 65.56971587040113  derivative: -2496854659.2059937  :gradient_magnitude 3394322874.25484\n",
      "weights[i]: 65.55996541625841  derivative: -2437613535.67865  :gradient_magnitude 3313788170.493149\n",
      "weights[i]: 65.55044630431998  derivative: -2379777984.606842  :gradient_magnitude 3235164257.1422153\n",
      "weights[i]: 65.54115304569214  derivative: -2323314656.959381  :gradient_magnitude 3158405798.2261195\n",
      "weights[i]: 65.53208028171231  derivative: -2268190994.958679  :gradient_magnitude 3083468533.4250064\n",
      "weights[i]: 65.52322278085911  derivative: -2214375213.300659  :gradient_magnitude 3010309252.5512486\n",
      "weights[i]: 65.51457543573585  derivative: -2161836280.81781  :gradient_magnitude 2938885770.635281\n",
      "weights[i]: 65.50613326012532  derivative: -2110543902.6316528  :gradient_magnitude 2869156903.601132\n",
      "weights[i]: 65.49789138611496  derivative: -2060468502.5923462  :gradient_magnitude 2801082444.5185223\n",
      "weights[i]: 65.48984506128956  derivative: -2011581206.3490295  :gradient_magnitude 2734623140.418624\n",
      "weights[i]: 65.48198964599123  derivative: -1963853824.5810852  :gradient_magnitude 2669740669.6600127\n",
      "weights[i]: 65.47432061064397  derivative: -1917258836.8142395  :gradient_magnitude 2606397619.832653\n",
      "weights[i]: 65.46683353314182  derivative: -1871769375.5371704  :gradient_magnitude 2544557466.1842747\n",
      "weights[i]: 65.45952409629902  derivative: -1827359210.7001343  :gradient_magnitude 2484184550.55948\n",
      "weights[i]: 65.45238808536064  derivative: -1784002734.5962524  :gradient_magnitude 2425244060.8392496\n",
      "weights[i]: 65.44542138557226  derivative: -1741674947.0957947  :gradient_magnitude 2367702010.8672423\n",
      "weights[i]: 65.43861997980738  derivative: -1700351441.2204895  :gradient_magnitude 2311525220.8533163\n",
      "weights[i]: 65.431979946251  derivative: -1660008389.0932617  :gradient_magnitude 2256681298.2407827\n",
      "weights[i]: 65.42549745613829  derivative: -1620622528.17984  :gradient_magnitude 2203138619.027378\n",
      "weights[i]: 65.4191687715468  derivative: -1582171147.872345  :gradient_magnitude 2150866309.5332627\n",
      "weights[i]: 65.41299024324117  derivative: -1544632076.4066162  :gradient_magnitude 2099834228.595574\n",
      "weights[i]: 65.40695830856885  derivative: -1507983668.0801086  :gradient_magnitude 2050012950.1901057\n",
      "weights[i]: 65.40106948940586  derivative: -1472204790.7478333  :gradient_magnitude 2001373746.4635243\n",
      "weights[i]: 65.39532039015121  derivative: -1437274813.6615906  :gradient_magnitude 1953888571.168384\n",
      "weights[i]: 65.38970769576893  derivative: -1403173595.5688782  :gradient_magnitude 1907530043.489625\n",
      "weights[i]: 65.38422816987664  derivative: -1369881473.0741272  :gradient_magnitude 1862271432.2598376\n",
      "weights[i]: 65.37887865287924  derivative: -1337379249.3495483  :gradient_magnitude 1818086640.5417185\n",
      "weights[i]: 65.37365606014716  derivative: -1305648183.0216675  :gradient_magnitude 1774950190.5821798\n",
      "weights[i]: 65.36855738023768  derivative: -1274669977.3689575  :gradient_magnitude 1732837209.1213639\n",
      "weights[i]: 65.36357967315847  derivative: -1244426769.8028564  :gradient_magnitude 1691723413.049516\n",
      "weights[i]: 65.35872006867226  derivative: -1214901121.5549011  :gradient_magnitude 1651585095.406019\n",
      "weights[i]: 65.35397576464196  derivative: -1186076007.5740051  :gradient_magnitude 1612399111.7080724\n",
      "weights[i]: 65.34934402541478  derivative: -1157934806.7955627  :gradient_magnitude 1574142866.6059923\n",
      "weights[i]: 65.34482218024483  derivative: -1130461292.4850464  :gradient_magnitude 1536794300.8547647\n",
      "weights[i]: 65.34040762175316  derivative: -1103639622.918396  :gradient_magnitude 1500331878.5928795\n",
      "weights[i]: 65.33609780442423  derivative: -1077454332.2316284  :gradient_magnitude 1464734574.9264514\n",
      "weights[i]: 65.33189024313816  derivative: -1051890321.514679  :gradient_magnitude 1429981863.80337\n",
      "weights[i]: 65.32778251173781  derivative: -1026932850.089508  :gradient_magnitude 1396053706.1801116\n",
      "weights[i]: 65.3237722416297  derivative: -1002567527.0282593  :gradient_magnitude 1362930538.464841\n",
      "weights[i]: 65.31985712041832  derivative: -978780302.8433838  :gradient_magnitude 1330593261.2382321\n",
      "weights[i]: 65.31603489057278  derivative: -955557461.3866272  :gradient_magnitude 1299023228.238718\n",
      "weights[i]: 65.31230334812498  derivative: -932885611.9501038  :gradient_magnitude 1268202235.612351\n",
      "weights[i]: 65.30866034139885  derivative: -910751681.5330505  :gradient_magnitude 1238112511.415603\n",
      "weights[i]: 65.30510376976963  derivative: -889142907.3063354  :gradient_magnitude 1208736705.3668568\n",
      "weights[i]: 65.30163158245256  derivative: -868046829.2691345  :gradient_magnitude 1180057878.84349\n",
      "weights[i]: 65.29824177732048  derivative: -847451283.0171509  :gradient_magnitude 1152059495.1132448\n",
      "weights[i]: 65.29493239974923  derivative: -827344392.8131409  :gradient_magnitude 1124725409.8001323\n",
      "weights[i]: 65.29170154149068  derivative: -807714564.6355591  :gradient_magnitude 1098039861.5741513\n",
      "weights[i]: 65.28854733957237  derivative: -788550479.5779114  :gradient_magnitude 1071987463.0643824\n",
      "weights[i]: 65.28546797522321  derivative: -769841087.2897949  :gradient_magnitude 1046553191.9840076\n",
      "weights[i]: 65.2824616728249  derivative: -751575599.5794067  :gradient_magnitude 1021722382.471312\n",
      "weights[i]: 65.27952669888789  derivative: -733743484.2518616  :gradient_magnitude 997480716.6304847\n"
     ]
    },
    {
     "data": {
      "text/plain": [
       "array([-9.99999688e+04,  2.45072603e+02,  6.52795267e+01])"
      ]
     },
     "execution_count": 181,
     "metadata": {},
     "output_type": "execute_result"
    }
   ],
   "source": [
    "weights = regression_gradient_descent(feature_matrix, y_true, initial_weights, step_size, tolerance)\n",
    "weights"
   ]
  },
  {
   "cell_type": "code",
   "execution_count": 182,
   "metadata": {},
   "outputs": [],
   "source": [
    "(x_test, y_test) = get_numpy_data(data_test, model_features_name, my_output_name)"
   ]
  },
  {
   "cell_type": "code",
   "execution_count": 183,
   "metadata": {},
   "outputs": [
    {
     "data": {
      "text/plain": [
       "array([366651.41162949, 762662.39850726, 386312.09557541, ...,\n",
       "       682087.39916306, 585579.27901327, 216559.20391786])"
      ]
     },
     "execution_count": 183,
     "metadata": {},
     "output_type": "execute_result"
    }
   ],
   "source": [
    "predict_outcome(x_test, weights)"
   ]
  },
  {
   "cell_type": "code",
   "execution_count": 184,
   "metadata": {},
   "outputs": [
    {
     "data": {
      "text/plain": [
       "270263443629803.56"
      ]
     },
     "execution_count": 184,
     "metadata": {},
     "output_type": "execute_result"
    }
   ],
   "source": [
    "len(y_test) * sklearn.metrics.mean_squared_error(y_test, predict_outcome(x_test, weights))"
   ]
  },
  {
   "cell_type": "code",
   "execution_count": null,
   "metadata": {},
   "outputs": [],
   "source": []
  },
  {
   "cell_type": "code",
   "execution_count": null,
   "metadata": {},
   "outputs": [],
   "source": []
  },
  {
   "cell_type": "markdown",
   "metadata": {},
   "source": [
    "**key: 281.9, 356134.4, 366651.4, model1, model2**"
   ]
  }
 ],
 "metadata": {
  "kernelspec": {
   "display_name": "Python 3",
   "language": "python",
   "name": "python3"
  },
  "language_info": {
   "codemirror_mode": {
    "name": "ipython",
    "version": 3
   },
   "file_extension": ".py",
   "mimetype": "text/x-python",
   "name": "python",
   "nbconvert_exporter": "python",
   "pygments_lexer": "ipython3",
   "version": "3.6.6"
  }
 },
 "nbformat": 4,
 "nbformat_minor": 2
}
